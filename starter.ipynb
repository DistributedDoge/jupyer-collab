{
 "cells": [
  {
   "cell_type": "markdown",
   "metadata": {},
   "source": [
    "# Starter Notebooks"
   ]
  },
  {
   "cell_type": "code",
   "execution_count": 17,
   "metadata": {},
   "outputs": [],
   "source": [
    "import io\n",
    "import requests as rq\n",
    "import pandas as pd"
   ]
  },
  {
   "cell_type": "code",
   "execution_count": 30,
   "metadata": {},
   "outputs": [],
   "source": [
    "\n",
    "def fetch_dataframe(filename):\n",
    "    data = rq.get(f'https://grantsdataportal.xyz/data/{filename}')\n",
    "    data.raise_for_status()\n",
    "    pq_file = io.BytesIO(data.content)\n",
    "    return(pd.read_parquet(pq_file))"
   ]
  },
  {
   "cell_type": "code",
   "execution_count": 32,
   "metadata": {},
   "outputs": [],
   "source": [
    "rounds = fetch_dataframe('allo_rounds.parquet')\n",
    "rounds.info()"
   ]
  },
  {
   "cell_type": "code",
   "execution_count": 36,
   "metadata": {},
   "outputs": [
    {
     "name": "stdout",
     "output_type": "stream",
     "text": [
      "<class 'pandas.core.frame.DataFrame'>\n",
      "RangeIndex: 1085 entries, 0 to 1084\n",
      "Data columns (total 31 columns):\n",
      " #   Column                          Non-Null Count  Dtype  \n",
      "---  ------                          --------------  -----  \n",
      " 0   admin_role                      1085 non-null   object \n",
      " 1   application_metadata            1085 non-null   object \n",
      " 2   application_metadata_cid        1085 non-null   object \n",
      " 3   applications_end_time           916 non-null    object \n",
      " 4   applications_start_time         1038 non-null   object \n",
      " 5   chain_id                        1085 non-null   int64  \n",
      " 6   created_at_block                1085 non-null   object \n",
      " 7   created_by_address              1085 non-null   object \n",
      " 8   donations_end_time              884 non-null    object \n",
      " 9   donations_start_time            993 non-null    object \n",
      " 10  id                              1085 non-null   object \n",
      " 11  manager_role                    1085 non-null   object \n",
      " 12  match_amount                    1085 non-null   object \n",
      " 13  match_amount_in_usd             1085 non-null   float64\n",
      " 14  match_token_address             1085 non-null   object \n",
      " 15  node_id                         1085 non-null   object \n",
      " 16  project_id                      1085 non-null   object \n",
      " 17  round_metadata                  1085 non-null   object \n",
      " 18  round_metadata_cid              1085 non-null   object \n",
      " 19  round_metadata_name             1029 non-null   object \n",
      " 20  round_metadata_round_type       986 non-null    object \n",
      " 21  round_metadata_program_address  1030 non-null   object \n",
      " 22  round_metadata_sybil_defense    747 non-null    object \n",
      " 23  strategy_address                1085 non-null   object \n",
      " 24  strategy_id                     1085 non-null   object \n",
      " 25  strategy_name                   1085 non-null   object \n",
      " 26  tags                            1085 non-null   object \n",
      " 27  total_amount_donated_in_usd     1085 non-null   float64\n",
      " 28  total_donations_count           1085 non-null   int64  \n",
      " 29  unique_donors_count             1085 non-null   int64  \n",
      " 30  updated_at_block                1085 non-null   object \n",
      "dtypes: float64(2), int64(3), object(26)\n",
      "memory usage: 262.9+ KB\n"
     ]
    }
   ],
   "source": []
  },
  {
   "cell_type": "markdown",
   "metadata": {},
   "source": []
  },
  {
   "cell_type": "markdown",
   "metadata": {},
   "source": []
  }
 ],
 "metadata": {
  "kernelspec": {
   "display_name": "Python 3",
   "language": "python",
   "name": "python3"
  },
  "language_info": {
   "codemirror_mode": {
    "name": "ipython",
    "version": 3
   },
   "file_extension": ".py",
   "mimetype": "text/x-python",
   "name": "python",
   "nbconvert_exporter": "python",
   "pygments_lexer": "ipython3",
   "version": "3.10.12"
  }
 },
 "nbformat": 4,
 "nbformat_minor": 2
}
